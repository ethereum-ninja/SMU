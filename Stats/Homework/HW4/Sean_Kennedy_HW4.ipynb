{
 "cells": [
  {
   "cell_type": "raw",
   "metadata": {},
   "source": [
    "Mann-Whitney U Test:\n",
    "-nonparametric statistical significance test for determining whether two independent samples were drawn from a population with the same distribution\n",
    "\n"
   ]
  },
  {
   "cell_type": "raw",
   "metadata": {},
   "source": [
    "Wilcoxon Signed-Rank Test"
   ]
  },
  {
   "cell_type": "raw",
   "metadata": {},
   "source": [
    "Kruskal-Wallis H Test"
   ]
  },
  {
   "cell_type": "raw",
   "metadata": {},
   "source": [
    "Friedman Test"
   ]
  }
 ],
 "metadata": {
  "kernelspec": {
   "display_name": "Python 3",
   "language": "python",
   "name": "python3"
  },
  "language_info": {
   "codemirror_mode": {
    "name": "ipython",
    "version": 3
   },
   "file_extension": ".py",
   "mimetype": "text/x-python",
   "name": "python",
   "nbconvert_exporter": "python",
   "pygments_lexer": "ipython3",
   "version": "3.6.1"
  }
 },
 "nbformat": 4,
 "nbformat_minor": 2
}
