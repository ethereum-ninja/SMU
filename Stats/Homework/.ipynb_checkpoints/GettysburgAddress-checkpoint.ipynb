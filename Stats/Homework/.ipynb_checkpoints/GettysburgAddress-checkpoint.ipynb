{
 "cells": [
  {
   "cell_type": "code",
   "execution_count": 42,
   "metadata": {},
   "outputs": [],
   "source": [
    "import pandas as pd\n",
    "import numpy as np\n",
    "import matplotlib.pyplot as plt\n",
    "%matplotlib inline"
   ]
  },
  {
   "cell_type": "code",
   "execution_count": 73,
   "metadata": {},
   "outputs": [
    {
     "name": "stdout",
     "output_type": "stream",
     "text": [
      "count    268.000000\n",
      "mean       4.294776\n",
      "std        2.123273\n",
      "min        1.000000\n",
      "25%        3.000000\n",
      "50%        4.000000\n",
      "75%        5.000000\n",
      "max       11.000000\n",
      "Name: Length, dtype: float64\n",
      "Distribution is positively skewed Mean=4.2868 Median=4.2 StDev=0.9687221506760444\n",
      "Distribution Range is=5.6 Max=7.6 Min=2.0\n",
      "Distribution mean (4.2868) is less than population mean (4.294776119402985)\n",
      "Distribution is positively skewed Mean=4.2852 Median=4.2 StDev=0.635159677271206\n",
      "Distribution Range is=3.8000000000000003 Max=6.2 Min=2.4\n",
      "Distribution mean (4.2852) is less than population mean (4.294776119402985)\n",
      "Distribution is negatively skewed Mean=4.291399999999999 Median=4.3 StDev=0.44778014036825753\n",
      "Distribution Range is=3.15 Max=6.05 Min=2.9\n",
      "Distribution mean (4.291399999999999) is less than population mean (4.294776119402985)\n",
      "Distribution is negatively skewed Mean=4.31692 Median=4.32 StDev=0.2782786222173136\n",
      "Distribution Range is=1.7199999999999998 Max=5.06 Min=3.34\n",
      "Distribution mean (4.31692) is greater than population mean (4.294776119402985)\n"
     ]
    },
    {
     "data": {
      "image/png": "[encoded data removed]",
      "text/plain": [
       "<Figure size 432x288 with 1 Axes>"
      ]
     },
     "metadata": {
      "needs_background": "light"
     },
     "output_type": "display_data"
    }
   ],
   "source": [
    "gettysburg_data = pd.read_csv('GettysburgAddress', sep='\\t')\n",
    "gettysburg_data.Length.hist()\n",
    "print(gettysburg_data.Length.describe())\n",
    "pop_mean = gettysburg_data.Length.mean()\n",
    "pop_std = gettysburg_data.Length.std()\n",
    "for n in [500]:\n",
    "    for s in [5, 10, 20, 50]:\n",
    "        means = get_random_sample_mean(gettysburg_data.Length, n, s)\n",
    "        means_data = pd.DataFrame(means)\n",
    "        means.hist(bins='auto')\n",
    "        describe_distribution(means_data, pop_mean, pop_std)"
   ]
  },
  {
   "cell_type": "code",
   "execution_count": 33,
   "metadata": {},
   "outputs": [],
   "source": [
    "def get_random_sample_mean(data, samples, sample_size):\n",
    "    means = []\n",
    "    for x in range(0, samples):\n",
    "        sample = data.sample(sample_size)\n",
    "        means.append(sample.mean())\n",
    "    \n",
    "    return pd.Series(means)"
   ]
  },
  {
   "cell_type": "code",
   "execution_count": 68,
   "metadata": {},
   "outputs": [
    {
     "name": "stdout",
     "output_type": "stream",
     "text": [
      "Distribution is positively skewed Mean=4.3184 Median=4.2 StDev=0.937774109560038\n",
      "Distribution Range is=5.0 Max=7.2 Min=2.2\n",
      "Distribution mean (4.3184) is greater than population mean (4.294776119402985)\n",
      "Distribution is positively skewed Mean=4.2924 Median=4.2 StDev=0.6824321705009732\n",
      "Distribution Range is=4.3999999999999995 Max=7.1 Min=2.7\n",
      "Distribution mean (4.2924) is less than population mean (4.294776119402985)\n",
      "Distribution is positively skewed Mean=4.2932999999999995 Median=4.275 StDev=0.45439306345082386\n",
      "Distribution Range is=2.65 Max=5.75 Min=3.1\n",
      "Distribution mean (4.2932999999999995) is less than population mean (4.294776119402985)\n",
      "Distribution is negatively skewed Mean=4.279280000000001 Median=4.28 StDev=0.2691176884943111\n",
      "Distribution Range is=1.7800000000000002 Max=5.24 Min=3.46\n",
      "Distribution mean (4.279280000000001) is less than population mean (4.294776119402985)\n"
     ]
    },
    {
     "data": {
      "image/png": "[encoded data removed]",
      "text/plain": [
       "<Figure size 432x288 with 1 Axes>"
      ]
     },
     "metadata": {
      "needs_background": "light"
     },
     "output_type": "display_data"
    }
   ],
   "source": []
  },
  {
   "cell_type": "code",
   "execution_count": 67,
   "metadata": {},
   "outputs": [],
   "source": [
    "def describe_distribution(data, pop_mean, pop_std):\n",
    "    mean = data.mean()[0]\n",
    "    median = data.median()[0]\n",
    "    st_dev = data.std()[0]\n",
    "    mx = data.max()[0]\n",
    "    mn = data.min()[0]\n",
    "    skew = 'positively skewed' if mean >= median else 'negatively skewed'\n",
    "    err = 'greater than' if mean > pop_mean else 'less than'\n",
    "    print(f'Distribution is {skew} Mean={mean} Median={median} StDev={st_dev}')\n",
    "    print(f'Distribution Range is={mx-mn} Max={mx} Min={mn}')\n",
    "    print(f'Distribution mean ({mean}) is {err} population mean ({pop_mean})')\n",
    "    #print(f'Distribution is negatively skewed Mean={mean} Median={median} StDev={st_dev}')"
   ]
  },
  {
   "cell_type": "code",
   "execution_count": null,
   "metadata": {},
   "outputs": [],
   "source": []
  }
 ],
 "metadata": {
  "kernelspec": {
   "display_name": "Python 3",
   "language": "python",
   "name": "python3"
  },
  "language_info": {
   "codemirror_mode": {
    "name": "ipython",
    "version": 3
   },
   "file_extension": ".py",
   "mimetype": "text/x-python",
   "name": "python",
   "nbconvert_exporter": "python",
   "pygments_lexer": "ipython3",
   "version": "3.6.1"
  }
 },
 "nbformat": 4,
 "nbformat_minor": 1
}
