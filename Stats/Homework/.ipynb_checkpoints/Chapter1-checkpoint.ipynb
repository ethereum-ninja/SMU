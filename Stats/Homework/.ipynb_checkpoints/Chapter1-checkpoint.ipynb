{
 "cells": [
  {
   "cell_type": "code",
   "execution_count": 1,
   "metadata": {
    "pycharm": {}
   },
   "outputs": [],
   "source": [
    "import pandas as pd\n",
    "import numpy as np\n",
    "from scipy.stats import ttest_ind\n",
    "%matplotlib inline"
   ]
  },
  {
   "cell_type": "code",
   "execution_count": 2,
   "metadata": {
    "pycharm": {
     "is_executing": false
    }
   },
   "outputs": [
    {
     "name": "stdout",
     "output_type": "stream",
     "text": [
      "      0\n",
      "0    34\n",
      "1  1200\n",
      "2    23\n",
      "3    50\n",
      "4    60\n",
      "               SMU   SeattleU\n",
      "count    16.000000   14.00000\n",
      "mean    141.625000   27.00000\n",
      "std     304.267837   36.71931\n",
      "min       0.000000    0.00000\n",
      "25%       7.500000    0.75000\n",
      "50%      32.000000   10.00000\n",
      "75%      67.250000   37.50000\n",
      "max    1200.000000  110.00000\n",
      "Ttest_indResult(statistic=1.397643422206484, pvalue=0.17319645942304948)\n"
     ]
    },
    {
     "data": {
      "image/png": "[encoded data removed]",
      "text/plain": [
       "<Figure size 432x288 with 2 Axes>"
      ]
     },
     "metadata": {
      "needs_background": "light"
     },
     "output_type": "display_data"
    }
   ],
   "source": [
    "data = {'SMU':[34, 1200, 23, 50, 60, 50, 0, 0, 30, 89, 0, 300, 400, 20, 10, 0],\n",
    "'SeattleU':[20, 10, 5, 0, 30, 50, 0, 100, 110, 0, 40, 10, 3, 0]}\n",
    "all_data = pd.DataFrame(pd.Series(data['SMU']+data['SeattleU']))\n",
    "print(all_data.head())\n",
    "data_frame = pd.DataFrame.from_dict(data, orient='index').T\n",
    "print(data_frame.describe())\n",
    "data_frame.hist()\n",
    "print(ttest_ind(data['SMU'], data['SeattleU']))"
   ]
  },
  {
   "cell_type": "code",
   "execution_count": 69,
   "metadata": {
    "pycharm": {},
    "scrolled": true
   },
   "outputs": [
    {
     "name": "stdout",
     "output_type": "stream",
     "text": [
      "pvalue = 0.0645\n",
      "observed_difference = 114.625\n"
     ]
    },
    {
     "data": {
      "text/plain": [
       "array([[<matplotlib.axes._subplots.AxesSubplot object at 0x000000001CB02F28>]],\n",
       "      dtype=object)"
      ]
     },
     "execution_count": 69,
     "metadata": {},
     "output_type": "execute_result"
    },
    {
     "data": {
      "image/png": "[encoded data removed]",
      "text/plain": [
       "<matplotlib.figure.Figure at 0x1cae80f0>"
      ]
     },
     "metadata": {
      "needs_background": "light"
     },
     "output_type": "display_data"
    }
   ],
   "source": [
    "number_of_permutations = 10000\n",
    "xbarholder = []\n",
    "counter = 0.0\n",
    "observed_diff = data_frame.SMU.mean() - data_frame.SeattleU.mean()\n",
    "for x in range(1, number_of_permutations):\n",
    "    scramble = all_data.sample(30)\n",
    "    smu = scramble[0:16]\n",
    "    seattle = scramble[16:31]\n",
    "    diff = smu.mean() - seattle.mean()\n",
    "    xbarholder.append(diff.values[0])\n",
    "    if diff.values[0] > observed_diff:\n",
    "        counter += 1\n",
    "        \n",
    "permutations = pd.DataFrame(pd.Series(xbarholder))\n",
    "print(f'pvalue = {counter/number_of_permutations}')\n",
    "print(f'observed_difference = {observed_diff}')\n",
    "permutations.hist()\n"
   ]
  },
  {
   "cell_type": "markdown",
   "metadata": {
    "pycharm": {}
   },
   "source": [
    "H0 (null hypothesis) = SMU.mean() - SeattleU.mean() (population means are equal)\n",
    "\n",
    "Test Statistic = observed_difference (114.625)\n",
    "\n",
    "HA (alternative hypothesis) = is observed_difference large enough to conclude that SMU.mean() <> Seattle.mean() \n",
    "\n",
    "There is not sufficient evidence based on p-value of 0.0645 to infer any relationship between location and cash on hand. "
   ]
  }
 ],
 "metadata": {
  "kernelspec": {
   "display_name": "Python 3",
   "language": "python",
   "name": "python3"
  },
  "language_info": {
   "codemirror_mode": {
    "name": "ipython",
    "version": 3
   },
   "file_extension": ".py",
   "mimetype": "text/x-python",
   "name": "python",
   "nbconvert_exporter": "python",
   "pygments_lexer": "ipython3",
   "version": "3.6.1"
  }
 },
 "nbformat": 4,
 "nbformat_minor": 2
}
