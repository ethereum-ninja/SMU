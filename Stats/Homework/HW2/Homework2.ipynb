{
  "cells": [
    {
      "cell_type": "code",
      "execution_count": 2,
      "metadata": {
        "pycharm": {
          "is_executing": false
        }
      },
      "outputs": [],
      "source": [
        "import numpy as np\n",
        "import matplotlib.pyplot as plt\n",
        "from scipy import stats\n",
        "import pandas as pd\n",
        "%matplotlib inline"
      ]
    },
    {
      "cell_type": "markdown",
      "metadata": {
        "pycharm": {}
      },
      "source": [
        "Problem 1:\n",
        "1.\tThe world’s smallest mammal is the bumblebee bat, also known as the Kitti’s hog nosed bat.  Such bats are roughly the size of a large bumblebee!  Listed below are weights (in grams) from a sample of these bats.  Test the claim that these bats come from the same population having a mean weight equal to 1.8 g\n",
        "\n",
        "H0: µ\u003d1.8\n",
        "Ha: µ≠1.8"
      ]
    },
    {
      "cell_type": "code",
      "execution_count": 2,
      "metadata": {
        "pycharm": {
          "is_executing": false
        },
        "scrolled": true
      },
      "outputs": [
        {
          "ename": "NameError",
          "evalue": "name \u0027run_analysis\u0027 is not defined",
          "output_type": "error",
          "traceback": [
            "\u001b[1;31m---------------------------------------------------------------------------\u001b[0m",
            "\u001b[1;31mNameError\u001b[0m                                 Traceback (most recent call last)",
            "\u001b[1;32m\u003cipython-input-2-a35cfe31cf4c\u003e\u001b[0m in \u001b[0;36m\u003cmodule\u003e\u001b[1;34m\u001b[0m\n\u001b[0;32m      3\u001b[0m \u001b[1;31m#bats \u003d pd.DataFrame({\u0027Bats\u0027:[1.7, 1.6, 1.5, 2.0, 2.3, 1.6, 1.6, 1.8, 1.5, 1.7, 2.2, 1.4, 1.6, 1.6, 1.6]}) #TEST DATA\u001b[0m\u001b[1;33m\u001b[0m\u001b[1;33m\u001b[0m\u001b[0m\n\u001b[0;32m      4\u001b[0m \u001b[0malpha\u001b[0m \u001b[1;33m\u003d\u001b[0m \u001b[1;36m0.05\u001b[0m\u001b[1;33m\u001b[0m\u001b[0m\n\u001b[1;32m----\u003e 5\u001b[1;33m \u001b[0msummary\u001b[0m \u001b[1;33m\u003d\u001b[0m \u001b[0mrun_analysis\u001b[0m\u001b[1;33m(\u001b[0m\u001b[0mbats\u001b[0m\u001b[1;33m,\u001b[0m \u001b[0malpha\u001b[0m\u001b[1;33m,\u001b[0m \u001b[0mh0\u001b[0m\u001b[1;33m)\u001b[0m\u001b[1;33m\u001b[0m\u001b[0m\n\u001b[0m\u001b[0;32m      6\u001b[0m \u001b[0mp_val\u001b[0m \u001b[1;33m\u003d\u001b[0m \u001b[0msummary\u001b[0m\u001b[1;33m.\u001b[0m\u001b[0mloc\u001b[0m\u001b[1;33m[\u001b[0m\u001b[1;34m\u0027p_value_perm\u0027\u001b[0m\u001b[1;33m]\u001b[0m\u001b[1;33m[\u001b[0m\u001b[1;36m0\u001b[0m\u001b[1;33m]\u001b[0m\u001b[1;33m\u001b[0m\u001b[0m\n\u001b[0;32m      7\u001b[0m \u001b[0mcl_95\u001b[0m \u001b[1;33m\u003d\u001b[0m \u001b[0msummary\u001b[0m\u001b[1;33m.\u001b[0m\u001b[0mloc\u001b[0m\u001b[1;33m[\u001b[0m\u001b[1;34m\u002795_cl\u0027\u001b[0m\u001b[1;33m]\u001b[0m\u001b[1;33m[\u001b[0m\u001b[1;36m0\u001b[0m\u001b[1;33m]\u001b[0m\u001b[1;33m;\u001b[0m\u001b[1;33m\u001b[0m\u001b[0m\n",
            "\u001b[1;31mNameError\u001b[0m: name \u0027run_analysis\u0027 is not defined"
          ]
        }
      ],
      "source": [
        "h0 \u003d 1.8\n",
        "bats \u003d pd.DataFrame({\u0027Bats\u0027:[1.7, 1.6, 1.5, 2.0, 2.3, 1.6, 1.6, 1.8, 1.5, 1.7, 1.2, 1.4, 1.6, 1.6, 1.6]})\n",
        "#bats \u003d pd.DataFrame({\u0027Bats\u0027:[1.7, 1.6, 1.5, 2.0, 2.3, 1.6, 1.6, 1.8, 1.5, 1.7, 2.2, 1.4, 1.6, 1.6, 1.6]}) #TEST DATA\n",
        "alpha \u003d 0.05\n",
        "summary \u003d run_analysis(bats, alpha, h0)\n",
        "p_val \u003d summary.loc[\u0027p_value_perm\u0027][0]\n",
        "cl_95 \u003d summary.loc[\u002795_cl\u0027][0];\n",
        "print(f\u0027\u0027\u0027\n",
        "        On the basis of this test, there {\u0027is\u0027 if p_val \u003c alpha else \u0027not\u0027} sufficient evidence\n",
        "        to reject the claim that the mean weight of bumblebee bats is equal to {h0} \n",
        "        (p-value \u003d {p_val} {(1-(alpha/2))*100}% CL \u003d {cl_95}\n",
        "        The problem was ambiguous on the randomness of the sample; \n",
        "        thus, we will assume that it was not a random sample, \n",
        "        which makes inference to the population of all bumbleebee bats strictly speculative. \n",
        "\u0027\u0027\u0027)\n",
        "summary"
      ]
    },
    {
      "cell_type": "markdown",
      "metadata": {
        "pycharm": {}
      },
      "source": [
        "Problem 2:\n",
        "\n",
        "In the United States, it is illegal to discriminate against people based on various attributes.  One example is age.  An active lawsuit, filed August 30, 2011, in the Los Angeles District Office is a case against the American Samoa Government for systematic age discrimination by preferentially firing older workers. Though the data and details are currently sealed, suppose that a random sample of the ages of fired and not fired people in the American Samoa Government are listed below:\n",
        "\n",
        "Fired\n",
        "34 37 37 38 41 42 43 44 44 45 45 45 46 48 49 53 53 54 54 55 56\n",
        "\n",
        "Not fired\n",
        "27 33 36 37 38 38 39 42 42 43 43 44 44 44 45 45 45 45 46 46 47 47 48 48 49 49 51 51 52 54"
      ]
    },
    {
      "cell_type": "markdown",
      "metadata": {
        "pycharm": {}
      },
      "source": [
        "a.\tPerform a permutation test to test the claim that there is age discrimination.\n",
        "H0: µ1\u003dµ2 Ha: µ1≠µ2\n",
        "Null Hyp \u003d sample means are equal (and equal to population mean)\n"
      ]
    },
    {
      "cell_type": "code",
      "execution_count": 7,
      "metadata": {
        "pycharm": {},
        "scrolled": true
      },
      "outputs": [
        {
          "name": "stdout",
          "output_type": "stream",
          "text": [
            "Permuation P-Value 0.303\n",
            "Distribution P-Value 0.010000000000000045\n",
            "Pooled Standard Error \u003d 1.7503\n"
          ]
        },
        {
          "data": {
            "text/html": [
              "\u003cdiv\u003e\n",
              "\u003cstyle scoped\u003e\n",
              "    .dataframe tbody tr th:only-of-type {\n",
              "        vertical-align: middle;\n",
              "    }\n",
              "\n",
              "    .dataframe tbody tr th {\n",
              "        vertical-align: top;\n",
              "    }\n",
              "\n",
              "    .dataframe thead th {\n",
              "        text-align: right;\n",
              "    }\n",
              "\u003c/style\u003e\n",
              "\u003ctable border\u003d\"1\" class\u003d\"dataframe\"\u003e\n",
              "  \u003cthead\u003e\n",
              "    \u003ctr style\u003d\"text-align: right;\"\u003e\n",
              "      \u003cth\u003e\u003c/th\u003e\n",
              "      \u003cth\u003e0\u003c/th\u003e\n",
              "    \u003c/tr\u003e\n",
              "  \u003c/thead\u003e\n",
              "  \u003ctbody\u003e\n",
              "    \u003ctr\u003e\n",
              "      \u003cth\u003ep_value_perm\u003c/th\u003e\n",
              "      \u003ctd\u003e0.303\u003c/td\u003e\n",
              "    \u003c/tr\u003e\n",
              "    \u003ctr\u003e\n",
              "      \u003cth\u003enumber_of_obs\u003c/th\u003e\n",
              "      \u003ctd\u003e51\u003c/td\u003e\n",
              "    \u003c/tr\u003e\n",
              "    \u003ctr\u003e\n",
              "      \u003cth\u003emean\u003c/th\u003e\n",
              "      \u003ctd\u003e1.92381\u003c/td\u003e\n",
              "    \u003c/tr\u003e\n",
              "    \u003ctr\u003e\n",
              "      \u003cth\u003esample_std\u003c/th\u003e\n",
              "      \u003ctd\u003e6.16467\u003c/td\u003e\n",
              "    \u003c/tr\u003e\n",
              "    \u003ctr\u003e\n",
              "      \u003cth\u003estd_dev\u003c/th\u003e\n",
              "      \u003ctd\u003e6.15188\u003c/td\u003e\n",
              "    \u003c/tr\u003e\n",
              "    \u003ctr\u003e\n",
              "      \u003cth\u003estd_err\u003c/th\u003e\n",
              "      \u003ctd\u003e1.75034\u003c/td\u003e\n",
              "    \u003c/tr\u003e\n",
              "    \u003ctr\u003e\n",
              "      \u003cth\u003emin\u003c/th\u003e\n",
              "      \u003ctd\u003e27\u003c/td\u003e\n",
              "    \u003c/tr\u003e\n",
              "    \u003ctr\u003e\n",
              "      \u003cth\u003emax\u003c/th\u003e\n",
              "      \u003ctd\u003e56\u003c/td\u003e\n",
              "    \u003c/tr\u003e\n",
              "    \u003ctr\u003e\n",
              "      \u003cth\u003eobserved_diff\u003c/th\u003e\n",
              "      \u003ctd\u003e1.9238\u003c/td\u003e\n",
              "    \u003c/tr\u003e\n",
              "    \u003ctr\u003e\n",
              "      \u003cth\u003e95_cl\u003c/th\u003e\n",
              "      \u003ctd\u003e[-2.767, 6.6146]\u003c/td\u003e\n",
              "    \u003c/tr\u003e\n",
              "    \u003ctr\u003e\n",
              "      \u003cth\u003et_value\u003c/th\u003e\n",
              "      \u003ctd\u003e2.67995\u003c/td\u003e\n",
              "    \u003c/tr\u003e\n",
              "    \u003ctr\u003e\n",
              "      \u003cth\u003eobserved_t\u003c/th\u003e\n",
              "      \u003ctd\u003e1.0991\u003c/td\u003e\n",
              "    \u003c/tr\u003e\n",
              "    \u003ctr\u003e\n",
              "      \u003cth\u003edf\u003c/th\u003e\n",
              "      \u003ctd\u003e49\u003c/td\u003e\n",
              "    \u003c/tr\u003e\n",
              "  \u003c/tbody\u003e\n",
              "\u003c/table\u003e\n",
              "\u003c/div\u003e"
            ],
            "text/plain": [
              "                              0\n",
              "p_value_perm              0.303\n",
              "number_of_obs                51\n",
              "mean                    1.92381\n",
              "sample_std              6.16467\n",
              "std_dev                 6.15188\n",
              "std_err                 1.75034\n",
              "min                          27\n",
              "max                          56\n",
              "observed_diff            1.9238\n",
              "95_cl          [-2.767, 6.6146]\n",
              "t_value                 2.67995\n",
              "observed_t               1.0991\n",
              "df                           49"
            ]
          },
          "execution_count": 7,
          "metadata": {},
          "output_type": "execute_result"
        },
        {
          "data": {
            "image/png": "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\u003d\n",
            "text/plain": [
              "\u003cmatplotlib.figure.Figure at 0x18fde5f8\u003e"
            ]
          },
          "metadata": {},
          "output_type": "display_data"
        },
        {
          "data": {
            "image/png": "[encoded data removed]",
            "text/plain": [
              "\u003cmatplotlib.figure.Figure at 0x190ace10\u003e"
            ]
          },
          "metadata": {},
          "output_type": "display_data"
        },
        {
          "data": {
            "image/png": "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\u003d\n",
            "text/plain": [
              "\u003cmatplotlib.figure.Figure at 0x1916a358\u003e"
            ]
          },
          "metadata": {},
          "output_type": "display_data"
        }
      ],
      "source": [
        "fired \u003d pd.Series([34, 37, 37, 38, 41, 42, 43, 44, 44, 45, 45, 45, 46, 48, 49, 53, 53, 54, 54, 55, 56])\n",
        "not_fired \u003d pd.Series([27, 33, 36, 37, 38, 38, 39, 42, 42, 43, 43, 44, 44, 44, 45, 45, 45, 45, 46, 46, 47, 47, 48, 48, 49, 49, 51, 51, 52, 54])\n",
        "cat_data \u003d pd.DataFrame({\"fired\":fired\n",
        "                    , \u0027not_fired\u0027:not_fired})\n",
        "#intrinsic \u003d pd.Series([12.0, 12.0, 12.9, 13.6, 16.6, 17.2, 17.5, 18.2, 19.1, 19.3, 19.8, 20.3, 20.5, 20.6, 21.3, 21.6, 22.1, 22.2, 22.6, 23.1, 24.0, 24.3, 26.7, 29.7])\n",
        "#extrinsic \u003d pd.Series([5.0, 5.4, 6.1, 10.9, 11.8, 12.0, 12.3, 14.8, 15.0, 16.8, 17.2, 17.2, 17.4, 17.5, 18.5, 18.7, 18.7, 19.2, 19.5, 20.7, 21.2, 22.1, 24.0])\n",
        "#cat_data \u003d pd.DataFrame({\"intrinsic\":intrinsic\n",
        "#                    , \u0027extrinsic\u0027:extrinsic})\n",
        "alpha \u003d 0.01\n",
        "summary \u003d run_analysis(cat_data, alpha, 0.0)\n",
        "p_val \u003d summary.loc[\u0027p_value_perm\u0027][0]\n",
        "t_val \u003d summary.loc[\u0027t_value\u0027][0]\n",
        "std_err \u003d summary.loc[\u0027std_err\u0027][0]\n",
        "df \u003d summary.loc[\u0027df\u0027][0]\n",
        "print(f\u0027Permuation P-Value {p_val}\u0027)\n",
        "print(f\u0027Distribution P-Value {stats.t.sf(t_val, df)*2}\u0027) #assumes 2 sided test\n",
        "print(f\u0027Pooled Standard Error \u003d {round(std_err, 4)}\u0027)\n",
        "summary"
      ]
    },
    {
      "cell_type": "code",
      "execution_count": 3,
      "metadata": {
        "pycharm": {}
      },
      "outputs": [],
      "source": [
        "def run_analysis(data, alpha, h0):\n",
        "    #flatten data into one array\n",
        "    all_values \u003d data.values.flatten()\n",
        "    #drop na values \n",
        "    all_values \u003d all_values[~np.isnan(all_values)]\n",
        "    sample_mean \u003d all_values.mean()\n",
        "    sample_std \u003d all_values.std(ddof\u003d1) #ddof \u003d 1 implies sample std()\n",
        "    \n",
        "    #lets assume the pop std as sigma \u003d s/sqrt(n)\n",
        "    if len(data.columns) \u003d\u003d 1:\n",
        "        pop_std \u003d sample_std/(len(all_values)**0.5)\n",
        "        mean \u003d all_values.mean()\n",
        "        chunk_size \u003d int(round(len(all_values)/2, 0))\n",
        "        std_err \u003d pop_std\n",
        "    else: #pooled SD\n",
        "        group_1 \u003d data.iloc[:,0].dropna()\n",
        "        group_2 \u003d data.iloc[:,1].dropna()\n",
        "        group_1_std \u003d group_1.std(ddof\u003d1)\n",
        "        group_2_std \u003d group_2.std(ddof\u003d1)\n",
        "        n1 \u003d len(group_1) - 1\n",
        "        n2 \u003d len(group_2) - 1\n",
        "        mean \u003d group_1.mean() - group_2.mean()\n",
        "        pop_std \u003d (((n1*group_1_std**2)+(n2*group_2_std**2))/(n1+n2))**0.5\n",
        "        chunk_size \u003d len(group_1) if len(group_1) \u003c len(group_2) else len(group_2)\n",
        "        std_err \u003d pop_std * ((1/len(group_1)) + (1/len(group_2)))**0.5\n",
        "        \n",
        "    df \u003d len(all_values) - len(data.columns) #degrees of freedom \u003d number of observations - number of classes\n",
        "    \n",
        "    t_stat, observed_t \u003d plot_normal_dist(data, df,  h0, pop_std, alpha\u003dalpha)\n",
        "    \n",
        "    p, diff \u003d perm_test(data, h0, mean, 1000, len(all_values), chunk_size)\n",
        "    \n",
        "    summary \u003d pd.DataFrame.from_dict(\n",
        "        {\n",
        "            \u0027p_value_perm\u0027:p,\n",
        "            \u0027number_of_obs\u0027: len(all_values),\n",
        "            \u0027mean\u0027:mean,\n",
        "            \u0027sample_std\u0027:sample_std, \n",
        "            \u0027std_dev\u0027:pop_std, \n",
        "            \u0027std_err\u0027:std_err,\n",
        "            \u0027min\u0027:all_values.min(),\n",
        "            \u0027max\u0027:all_values.max(),\n",
        "            \u0027observed_diff\u0027: round(diff, 4),\n",
        "            \u002795_cl\u0027:[round(mean-t_stat*std_err, 4), round(mean+t_stat*std_err, 4)],\n",
        "            \u0027t_value\u0027: t_stat,\n",
        "            \u0027observed_t\u0027: observed_t,\n",
        "            \u0027df\u0027:df\n",
        "        }, orient\u003d\u0027index\u0027)\n",
        "    return summary"
      ]
    },
    {
      "cell_type": "code",
      "execution_count": 6,
      "metadata": {
        "pycharm": {}
      },
      "outputs": [],
      "source": [
        "def plot_normal_dist(data, df, h0 \u003d 0.0, pop_std\u003d1.0, band_size\u003d5, alpha\u003d0.05, color\u003d\u0027b\u0027):\n",
        "    \n",
        "    #flatten data into one array\n",
        "    all_values \u003d data.values.flatten()\n",
        "    #drop na values \n",
        "    all_values \u003d all_values[~np.isnan(all_values)]\n",
        "    sample_std \u003d all_values.std()\n",
        "    #todo: write funciton for this\n",
        "    if len(data.columns) \u003d\u003d 1:\n",
        "        mean \u003d all_values.mean()\n",
        "        observed_t \u003d (mean - h0)/sample_std/len(all_values)**0.5\n",
        "    else:\n",
        "        group_1 \u003d data.iloc[:,0].dropna()\n",
        "        group_2 \u003d data.iloc[:,1].dropna()\n",
        "        group_1_std \u003d group_1.std(ddof\u003d1)\n",
        "        group_2_std \u003d group_2.std(ddof\u003d1)\n",
        "        n1 \u003d len(group_1) - 1\n",
        "        n2 \u003d len(group_2) - 1\n",
        "        mean \u003d group_1.mean() - group_2.mean()\n",
        "        pop_std \u003d (((n1*group_1_std**2)+(n2*group_2_std**2))/(n1+n2))**0.5\n",
        "        observed_t \u003d mean/(pop_std *((1/len(group_1)) + (1/len(group_2)))**0.5)\n",
        "    \n",
        "    t_stat \u003d stats.t.ppf(1-(alpha/2),df\u003ddf)\n",
        "    plt.style.use(\u0027ggplot\u0027)\n",
        "    plot_min \u003d mean - band_size  * pop_std\n",
        "    plot_max \u003d mean + band_size * pop_std\n",
        "    x \u003d np.linspace(plot_min, plot_max, 1000)\n",
        "    iq \u003d stats.norm(mean, pop_std)\n",
        "    normal \u003d iq.pdf(x)\n",
        "    plt.plot(x, normal, \u0027r-\u0027, lw\u003d3, label\u003df\u0027Norm x\u003d{round(mean, 4)} std\u003d{round(pop_std, 4)}\u0027) #plot the norm\n",
        "    plt.plot([mean, mean], [0, normal.max()], \u0027g-\u0027, lw\u003d3, label\u003df\u0027Sample Mean\u003d{round(mean, 4)}\u0027) #plot the sample mean\n",
        "    plt.plot([h0, h0], [0, normal.max()], \u0027y-\u0027, lw\u003d3, label\u003df\u0027H0\u003d{round(h0, 4)}\u0027) #plot the pop mean\n",
        "    plt.plot([mean-observed_t, mean-observed_t], [0, iq.pdf(mean-observed_t)], \u0027c-*\u0027, lw\u003d3) #plot the observed t\n",
        "    plt.plot([mean+observed_t, mean+observed_t], [0, iq.pdf(mean+observed_t)], \u0027c-*\u0027, lw\u003d3) #plot the observed t\n",
        "    plt.legend()\n",
        "    plt.title(f\u00272 Sided T-Test Alpha\u003d{alpha} T-Stat\u003d{round(t_stat, 4)}\u0027)\n",
        "    low \u003d mean - (t_stat*pop_std)\n",
        "    high \u003d mean + (t_stat*pop_std)\n",
        "    p_low \u003d x[np.logical_and(x \u003c\u003d low, x \u003e\u003d plot_min)]\n",
        "    p_high \u003d x[np.logical_and(x \u003e\u003d high, x \u003c\u003d plot_max)]\n",
        "    plt.fill_between(\n",
        "        p_low,\n",
        "        iq.pdf(p_low),\n",
        "        color\u003dcolor,\n",
        "        alpha\u003d0.5,\n",
        "        linewidth\u003d0,\n",
        "    )\n",
        "    plt.fill_between(\n",
        "        p_high,\n",
        "        iq.pdf(p_high),\n",
        "        color\u003dcolor,\n",
        "        alpha\u003d0.5,\n",
        "        linewidth\u003d0,\n",
        "    )\n",
        "    plt.tight_layout()\n",
        "    data.hist(bins\u003d\u0027auto\u0027)\n",
        "    return t_stat, observed_t"
      ]
    },
    {
      "cell_type": "code",
      "execution_count": 4,
      "metadata": {
        "pycharm": {}
      },
      "outputs": [],
      "source": [
        "def perm_test(data,  expected, observed, number_of_permutations\u003d1000.0, sample_size\u003d30, chunk_size\u003d10):\n",
        "    #flatten data into one array\n",
        "    all_values \u003d pd.DataFrame(data.values.flatten())\n",
        "    #drop na values \n",
        "    all_values \u003d all_values[~np.isnan(all_values)]\n",
        "    assert(sample_size \u003c\u003d len(all_values))\n",
        "    xbarholder \u003d []\n",
        "    counter \u003d 0.0\n",
        "    observed_diff \u003d abs(expected - observed)\n",
        "    for x in range(1, number_of_permutations):\n",
        "        scramble \u003d all_values.sample(sample_size)\n",
        "        random_1 \u003d scramble[0:chunk_size]\n",
        "        random_2 \u003d scramble[chunk_size:len(all_values)]\n",
        "        assert(len(random_1) + len(random_2) \u003d\u003d sample_size)\n",
        "        diff \u003d random_1.mean() - random_2.mean()\n",
        "        xbarholder.append(diff.values[0])\n",
        "        if abs(diff.values[0]) \u003e observed_diff:\n",
        "            counter +\u003d 1\n",
        "\n",
        "    permutations \u003d pd.DataFrame(pd.Series(xbarholder))\n",
        "    permutations.hist()\n",
        "    plt.title(f\u0027Perm Test Result Permutations\u003d{round(number_of_permutations,0)} Sample Size\u003d{sample_size} Chunk Size\u003d{chunk_size}\u0027)\n",
        "    return counter/number_of_permutations, observed_diff"
      ]
    },
    {
      "cell_type": "code",
      "execution_count": null,
      "metadata": {
        "pycharm": {}
      },
      "outputs": [],
      "source": []
    }
  ],
  "metadata": {
    "kernelspec": {
      "display_name": "Python 3",
      "language": "python",
      "name": "python3"
    },
    "language_info": {
      "codemirror_mode": {
        "name": "ipython",
        "version": 3
      },
      "file_extension": ".py",
      "mimetype": "text/x-python",
      "name": "python",
      "nbconvert_exporter": "python",
      "pygments_lexer": "ipython3",
      "version": "3.6.1"
    }
  },
  "nbformat": 4,
  "nbformat_minor": 1
}