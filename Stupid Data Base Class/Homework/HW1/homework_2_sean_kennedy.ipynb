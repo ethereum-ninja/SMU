{
 "cells": [
  {
   "cell_type": "code",
   "execution_count": 3,
   "metadata": {
    "pycharm": {
     "is_executing": false
    }
   },
   "outputs": [],
   "source": [
    "import pyodbc as db"
   ]
  },
  {
   "cell_type": "markdown",
   "metadata": {},
   "source": [
    "## Connect to DB\n"
   ]
  },
  {
   "cell_type": "code",
   "execution_count": null,
   "metadata": {
    "pycharm": {}
   },
   "outputs": [],
   "source": [
    "conn = db.connect('DSN=)"
   ]
  },
  {
   "cell_type": "code",
   "execution_count": 6,
   "metadata": {},
   "outputs": [
    {
     "name": "stdout",
     "output_type": "stream",
     "text": [
      "Help on built-in function connect in module pyodbc:\n",
      "\n",
      "connect(...)\n",
      "    connect(str, autocommit=False, ansi=False, timeout=0, **kwargs) --> Connection\n",
      "    \n",
      "    Accepts an ODBC connection string and returns a new Connection object.\n",
      "    \n",
      "    The connection string will be passed to SQLDriverConnect, so a DSN connection\n",
      "    can be created using:\n",
      "    \n",
      "      cnxn = pyodbc.connect('DSN=DataSourceName;UID=user;PWD=password')\n",
      "    \n",
      "    To connect without requiring a DSN, specify the driver and connection\n",
      "    information:\n",
      "    \n",
      "      DRIVER={SQL Server};SERVER=localhost;DATABASE=testdb;UID=user;PWD=password\n",
      "    \n",
      "    Note the use of braces when a value contains spaces.  Refer to SQLDriverConnect\n",
      "    documentation or the documentation of your ODBC driver for details.\n",
      "    \n",
      "    The connection string can be passed as the string `str`, as a list of keywords,\n",
      "    or a combination of the two.  Any keywords except autocommit, ansi, and timeout\n",
      "    (see below) are simply added to the connection string.\n",
      "    \n",
      "      connect('server=localhost;user=me')\n",
      "      connect(server='localhost', user='me')\n",
      "      connect('server=localhost', user='me')\n",
      "    \n",
      "    The DB API recommends the keywords 'user', 'password', and 'host', but these\n",
      "    are not valid ODBC keywords, so these will be converted to 'uid', 'pwd', and\n",
      "    'server'.\n",
      "    \n",
      "    Special Keywords\n",
      "    \n",
      "    The following specal keywords are processed by pyodbc and are not added to the\n",
      "    connection string.  (If you must use these in your connection string, pass them\n",
      "    as a string, not as keywords.)\n",
      "    \n",
      "      autocommit\n",
      "        If False or zero, the default, transactions are created automatically as\n",
      "        defined in the DB API 2.  If True or non-zero, the connection is put into\n",
      "        ODBC autocommit mode and statements are committed automatically.\n",
      "       \n",
      "      ansi\n",
      "        By default, pyodbc first attempts to connect using the Unicode version of\n",
      "        SQLDriverConnectW.  If the driver returns IM001 indicating it does not\n",
      "        support the Unicode version, the ANSI version is tried.  Any other SQLSTATE\n",
      "        is turned into an exception.  Setting ansi to true skips the Unicode\n",
      "        attempt and only connects using the ANSI version.  This is useful for\n",
      "        drivers that return the wrong SQLSTATE (or if pyodbc is out of date and\n",
      "        should support other SQLSTATEs).\n",
      "       \n",
      "      timeout\n",
      "        An integer login timeout in seconds, used to set the SQL_ATTR_LOGIN_TIMEOUT\n",
      "        attribute of the connection.  The default is 0 which means the database's\n",
      "        default timeout, if any, is used.\n",
      "\n"
     ]
    }
   ],
   "source": [
    "help(db.connect\n",
    "    )"
   ]
  },
  {
   "cell_type": "code",
   "execution_count": null,
   "metadata": {},
   "outputs": [],
   "source": []
  }
 ],
 "metadata": {
  "kernelspec": {
   "display_name": "Python 3",
   "language": "python",
   "name": "python3"
  },
  "language_info": {
   "codemirror_mode": {
    "name": "ipython",
    "version": 3
   },
   "file_extension": ".py",
   "mimetype": "text/x-python",
   "name": "python",
   "nbconvert_exporter": "python",
   "pygments_lexer": "ipython3",
   "version": "3.6.1"
  }
 },
 "nbformat": 4,
 "nbformat_minor": 1
}
