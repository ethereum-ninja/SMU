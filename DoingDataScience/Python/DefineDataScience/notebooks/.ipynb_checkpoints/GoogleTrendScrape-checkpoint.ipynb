{
 "cells": [
  {
   "cell_type": "code",
   "execution_count": 43,
   "metadata": {
    "pycharm": {
     "is_executing": false
    }
   },
   "outputs": [],
   "source": [
    "import pytrends as pt\n",
    "import matplotlib.pyplot as plt\n",
    "import matplotlib\n",
    "%matplotlib inline\n",
    "import datetime as dt"
   ]
  },
  {
   "cell_type": "code",
   "execution_count": 15,
   "metadata": {},
   "outputs": [
    {
     "name": "stdout",
     "output_type": "stream",
     "text": [
      "Help on module pytrends.request in pytrends:\n",
      "\n",
      "NAME\n",
      "    pytrends.request\n",
      "\n",
      "CLASSES\n",
      "    builtins.object\n",
      "        TrendReq\n",
      "    \n",
      "    class TrendReq(builtins.object)\n",
      "     |  TrendReq(hl='en-US', tz=360, geo='', proxies='')\n",
      "     |  \n",
      "     |  Google Trends API\n",
      "     |  \n",
      "     |  Methods defined here:\n",
      "     |  \n",
      "     |  __init__(self, hl='en-US', tz=360, geo='', proxies='')\n",
      "     |      Initialize default values for params\n",
      "     |  \n",
      "     |  build_payload(self, kw_list, cat=0, timeframe='today 5-y', geo='', gprop='')\n",
      "     |      Create the payload for related queries, interest over time and interest by region\n",
      "     |  \n",
      "     |  categories(self)\n",
      "     |      Request available categories data from Google's API and return a dictionary\n",
      "     |  \n",
      "     |  get_historical_interest(self, keywords, year_start=2018, month_start=1, day_start=1, hour_start=0, year_end=2018, month_end=2, day_end=1, hour_end=0, cat=0, geo='', gprop='', sleep=0)\n",
      "     |      Gets historical hourly data for interest by chunking requests to 1 week at a time (which is what Google allows)\n",
      "     |  \n",
      "     |  interest_by_region(self, resolution='COUNTRY')\n",
      "     |      Request data from Google's Interest by Region section and return a dataframe\n",
      "     |  \n",
      "     |  interest_over_time(self)\n",
      "     |      Request data from Google's Interest Over Time section and return a dataframe\n",
      "     |  \n",
      "     |  related_queries(self)\n",
      "     |      Request data from Google's Related Queries section and return a dictionary of dataframes\n",
      "     |      \n",
      "     |      If no top and/or rising related queries are found, the value for the key \"top\" and/or \"rising\" will be None\n",
      "     |  \n",
      "     |  related_topics(self)\n",
      "     |      Request data from Google's Related Topics section and return a dictionary of dataframes\n",
      "     |      \n",
      "     |      If no top and/or rising related topics are found, the value for the key \"top\" and/or \"rising\" will be None\n",
      "     |  \n",
      "     |  suggestions(self, keyword)\n",
      "     |      Request data from Google's Keyword Suggestion dropdown and return a dictionary\n",
      "     |  \n",
      "     |  top_charts(self, date, cid, geo='US', cat='')\n",
      "     |      Request data from Google's Top Charts section and return a dataframe\n",
      "     |  \n",
      "     |  trending_searches(self, pn='p1')\n",
      "     |      Request data from Google's Trending Searches section and return a dataframe\n",
      "     |  \n",
      "     |  ----------------------------------------------------------------------\n",
      "     |  Data descriptors defined here:\n",
      "     |  \n",
      "     |  __dict__\n",
      "     |      dictionary for instance variables (if defined)\n",
      "     |  \n",
      "     |  __weakref__\n",
      "     |      list of weak references to the object (if defined)\n",
      "     |  \n",
      "     |  ----------------------------------------------------------------------\n",
      "     |  Data and other attributes defined here:\n",
      "     |  \n",
      "     |  CATEGORIES_URL = 'https://trends.google.com/trends/api/explore/pickers...\n",
      "     |  \n",
      "     |  GENERAL_URL = 'https://trends.google.com/trends/api/explore'\n",
      "     |  \n",
      "     |  GET_METHOD = 'get'\n",
      "     |  \n",
      "     |  INTEREST_BY_REGION_URL = 'https://trends.google.com/trends/api/widgetd...\n",
      "     |  \n",
      "     |  INTEREST_OVER_TIME_URL = 'https://trends.google.com/trends/api/widgetd...\n",
      "     |  \n",
      "     |  POST_METHOD = 'post'\n",
      "     |  \n",
      "     |  RELATED_QUERIES_URL = 'https://trends.google.com/trends/api/widgetdata...\n",
      "     |  \n",
      "     |  SUGGESTIONS_URL = 'https://trends.google.com/trends/api/autocomplete/'\n",
      "     |  \n",
      "     |  TOP_CHARTS_URL = 'https://trends.google.com/trends/topcharts/chart'\n",
      "     |  \n",
      "     |  TRENDING_SEARCHES_URL = 'https://trends.google.com/trends/hottrends/ho...\n",
      "\n",
      "DATA\n",
      "    __warningregistry__ = {'version': 67}\n",
      "    absolute_import = _Feature((2, 5, 0, 'alpha', 1), (3, 0, 0, 'alpha', 0...\n",
      "    print_function = _Feature((2, 6, 0, 'alpha', 2), (3, 0, 0, 'alpha', 0)...\n",
      "    unicode_literals = _Feature((2, 6, 0, 'alpha', 2), (3, 0, 0, 'alpha', ...\n",
      "\n",
      "FILE\n",
      "    /Users/skennedy/.conda/envs/DefineDataScience/lib/python3.7/site-packages/pytrends/request.py\n",
      "\n",
      "\n"
     ]
    }
   ],
   "source": [
    "help('pytrends.request')"
   ]
  },
  {
   "cell_type": "code",
   "execution_count": 48,
   "metadata": {},
   "outputs": [
    {
     "data": {
      "text/plain": [
       "[<matplotlib.lines.Line2D at 0x122e2b9b0>,\n",
       " <matplotlib.lines.Line2D at 0x122e2bcf8>,\n",
       " <matplotlib.lines.Line2D at 0x122e2be48>]"
      ]
     },
     "execution_count": 48,
     "metadata": {},
     "output_type": "execute_result"
    },
    {
     "data": {
      "image/png": "[encoded data removed]",
      "text/plain": [
       "<Figure size 432x288 with 1 Axes>"
      ]
     },
     "metadata": {
      "needs_background": "light"
     },
     "output_type": "display_data"
    }
   ],
   "source": [
    "trend_request = pt.request.TrendReq()\n",
    "key_words = ['Data Science', 'Data', 'Science']\n",
    "trend_request.build_payload(kw_list=key_words)\n",
    "trends = trend_request.get_historical_interest(keywords=key_words, ).reset_index()\n",
    "trends = trends.groupby([dt.datetime.strftime(date, '%Y%m%d') for date in trends.date]).mean().reset_index()\n",
    "plt.plot(trends.index, trends[key_words])\n",
    "#categories = trend_request.categories()\n",
    "#categories\n",
    "#get_historical_interest"
   ]
  },
  {
   "cell_type": "code",
   "execution_count": null,
   "metadata": {},
   "outputs": [],
   "source": []
  }
 ],
 "metadata": {
  "kernelspec": {
   "display_name": "Python 3",
   "language": "python",
   "name": "python3"
  },
  "language_info": {
   "codemirror_mode": {
    "name": "ipython",
    "version": 3
   },
   "file_extension": ".py",
   "mimetype": "text/x-python",
   "name": "python",
   "nbconvert_exporter": "python",
   "pygments_lexer": "ipython3",
   "version": "3.7.3"
  }
 },
 "nbformat": 4,
 "nbformat_minor": 1
}
